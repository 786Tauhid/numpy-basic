{
 "cells": [
  {
   "cell_type": "code",
   "execution_count": 1,
   "metadata": {},
   "outputs": [],
   "source": [
    "#importing numpy library as np\n",
    "import numpy as np"
   ]
  },
  {
   "cell_type": "markdown",
   "metadata": {},
   "source": [
    "we are going to create a array in numpy and much more"
   ]
  },
  {
   "cell_type": "code",
   "execution_count": 8,
   "metadata": {},
   "outputs": [
    {
     "name": "stdout",
     "output_type": "stream",
     "text": [
      "<class 'tuple'>\n",
      "(array([2, 5, 6, 7, 8, 9]), array([3, 2, 2, 1, 1, 1], dtype=int64))\n",
      "2\n"
     ]
    }
   ],
   "source": [
    "a = np.array([5,2,6,2,7,5,6,8,2,9])\n",
    "new_a=np.unique(a,return_counts = True)\n",
    "print(type(new_a))\n",
    "print(new_a)\n",
    "print(new_a[0][new_a[1].argmax()])"
   ]
  },
  {
   "cell_type": "code",
   "execution_count": 3,
   "metadata": {},
   "outputs": [
    {
     "name": "stdout",
     "output_type": "stream",
     "text": [
      "[1 2 3 4 5 6]\n",
      "<class 'numpy.ndarray'>\n",
      "(6,)\n"
     ]
    }
   ],
   "source": [
    "#it create array in numpy\n",
    "a=np.array([1,2,3,4,5,6])\n",
    "print(a)\n",
    "print(type(a)) \n",
    "print(a.shape) #it give the shape of array or dimention of array if it is 1-D it print (6,),if 2-D it print (6,4) 6 is no of\n",
    "#rows and 4 is no of columns"
   ]
  },
  {
   "cell_type": "code",
   "execution_count": 4,
   "metadata": {},
   "outputs": [
    {
     "name": "stdout",
     "output_type": "stream",
     "text": [
      "[[1 2 3]\n",
      " [4 5 6]\n",
      " [7 8 9]]\n",
      "(3, 3)\n",
      "<class 'numpy.ndarray'>\n"
     ]
    }
   ],
   "source": [
    "#we can create any dimenion array and acces it by arrayname[index] \n",
    "b=np.array([[1,2,3],[4,5,6],[7,8,9]])\n",
    "print(b)\n",
    "print(b.shape)\n",
    "print(type(b))\n",
    "# we can see that we have created a 3*3 array and we can acces by b[row index][column inde]"
   ]
  },
  {
   "cell_type": "code",
   "execution_count": 5,
   "metadata": {},
   "outputs": [
    {
     "name": "stdout",
     "output_type": "stream",
     "text": [
      "[[1. 1. 1.]\n",
      " [1. 1. 1.]\n",
      " [1. 1. 1.]]\n",
      "(3, 3)\n",
      "<class 'numpy.ndarray'>\n",
      "[[0. 0. 0. 0.]\n",
      " [0. 0. 0. 0.]\n",
      " [0. 0. 0. 0.]\n",
      " [0. 0. 0. 0.]]\n",
      "<class 'numpy.ndarray'>\n",
      "(4, 4)\n",
      "[[5 5]\n",
      " [5 5]\n",
      " [5 5]]\n",
      "<class 'numpy.ndarray'>\n",
      "(3, 2)\n",
      "[[1. 0. 0. 0.]\n",
      " [0. 1. 0. 0.]\n",
      " [0. 0. 1. 0.]\n",
      " [0. 0. 0. 1.]]\n",
      "<class 'numpy.ndarray'>\n",
      "(4, 4)\n",
      "[[0.96041827 0.68119932 0.05945528 0.8314522  0.94678251]\n",
      " [0.65091276 0.03977958 0.69261985 0.04226643 0.35764469]\n",
      " [0.77004324 0.53368631 0.90622511 0.1481708  0.88860115]\n",
      " [0.31963478 0.7155895  0.96981207 0.53169768 0.56978991]\n",
      " [0.22739608 0.61572209 0.61756306 0.28972389 0.63723891]]\n",
      "<class 'numpy.ndarray'>\n",
      "(5, 5)\n"
     ]
    }
   ],
   "source": [
    "#we can make array of only one,zeros e.t.c by writing\n",
    "#below create a array on only ones of 3*3\n",
    "c=np.ones((3,3))\n",
    "print(c)\n",
    "print(c.shape)\n",
    "print(type(c))\n",
    "b=np.zeros((4,4))   #it create array of zeros of 4*4\n",
    "print(b)\n",
    "print(type(b))\n",
    "print(b.shape)\n",
    "# we can also make array of constants\n",
    "\n",
    "b=np.full((3,2),5)   #it create array of 3*2 of constant 5\n",
    "print(b)\n",
    "print(type(b))\n",
    "print(b.shape)\n",
    "\n",
    "#we can also create identity matrix as below  it create square identity matrix\n",
    "d=np.eye(4)\n",
    "print(d)\n",
    "print(type(d))\n",
    "print(d.shape)\n",
    "\n",
    "# we can also create a random matrix as below\n",
    "randommatrix=np.random.random((5,5))\n",
    "print(randommatrix)\n",
    "print(type(randommatrix))\n",
    "print(randommatrix.shape)"
   ]
  },
  {
   "cell_type": "code",
   "execution_count": 6,
   "metadata": {},
   "outputs": [
    {
     "name": "stdout",
     "output_type": "stream",
     "text": [
      "0.039779578022233975\n",
      "[0.68119932 0.03977958 0.53368631 0.7155895  0.61572209]\n",
      "[0.77004324 0.53368631 0.90622511 0.1481708  0.88860115]\n",
      "[[0.03977958 0.69261985]\n",
      " [0.53368631 0.90622511]\n",
      " [0.7155895  0.96981207]]\n",
      "[[0.96041827 0.68119932 0.05945528 0.8314522  0.94678251]\n",
      " [0.65091276 1.         1.         1.         1.        ]\n",
      " [0.77004324 0.53368631 0.90622511 0.1481708  0.88860115]\n",
      " [0.31963478 0.7155895  0.96981207 0.53169768 0.56978991]\n",
      " [0.22739608 0.61572209 0.61756306 0.28972389 0.63723891]]\n"
     ]
    }
   ],
   "source": [
    "print(randommatrix[1,1])   #it will give element having index 1,1 means 1st row and 1st column\n",
    "# to access we take matrix[rows index,column index]\n",
    "#if we want to acces all rows of a given column\n",
    "print(randommatrix[:,1])  # it will give all element of 1st coulmn\n",
    "print(randommatrix[2,:]) #it will give all element of 2nd row\n",
    "print(randommatrix[1:4,1:3])  #it will give element from 1st row to 4th row (excluding 4) and 1st column to 3rd coulmn(excluding 3)\n",
    "# we can also update element of a matrix\n",
    "randommatrix[1,1:]=1 #it update 1st row and column from 1st two end element   called as slicing\n",
    "print(randommatrix)"
   ]
  },
  {
   "cell_type": "code",
   "execution_count": 7,
   "metadata": {},
   "outputs": [
    {
     "name": "stdout",
     "output_type": "stream",
     "text": [
      "[[0 0 0]\n",
      " [9 9 9]\n",
      " [0 0 0]]\n",
      "[[0 0 7]\n",
      " [9 9 7]\n",
      " [0 0 7]]\n"
     ]
    }
   ],
   "source": [
    "#we can also set some rows and column with any values i.e\n",
    "d=np.zeros((3,3) ,dtype=np.int64)\n",
    "#to set 1 row with 9 and 3 column with 7\n",
    "d[1,:]=9\n",
    "print(d)\n",
    "d[:,-1]=7\n",
    "print(d)"
   ]
  },
  {
   "cell_type": "code",
   "execution_count": 8,
   "metadata": {},
   "outputs": [
    {
     "name": "stdout",
     "output_type": "stream",
     "text": [
      "int32\n",
      "int32\n",
      "float64\n",
      "int64\n"
     ]
    }
   ],
   "source": [
    "# data type of element of array is given as we can convert data type of element of any array by dtype=np.int/float/e.tc32/64 etc\n",
    "print(a.dtype)\n",
    "print(b.dtype)\n",
    "print(c.dtype)\n",
    "print(d.dtype)"
   ]
  },
  {
   "cell_type": "code",
   "execution_count": 9,
   "metadata": {},
   "outputs": [
    {
     "name": "stdout",
     "output_type": "stream",
     "text": [
      "[[5 7 9]\n",
      " [5 7 9]\n",
      " [5 7 9]]\n",
      "[[-3 -3 -3]\n",
      " [-3 -3 -3]\n",
      " [-3 -3 -3]]\n",
      "[[5 7 9]\n",
      " [5 7 9]\n",
      " [5 7 9]]\n",
      "[[-3 -3 -3]\n",
      " [-3 -3 -3]\n",
      " [-3 -3 -3]]\n"
     ]
    }
   ],
   "source": [
    "#we can add /subtract two array/matrix\n",
    "x=np.array([[1,2,3],[1,2,3],[1,2,3]])\n",
    "y=np.array([[4,5,6],[4,5,6],[4,5,6]])\n",
    "print(x+y)\n",
    "print(x-y)\n",
    "print(np.add(x,y))\n",
    "print(np.subtract(x,y))"
   ]
  },
  {
   "cell_type": "code",
   "execution_count": 10,
   "metadata": {},
   "outputs": [
    {
     "name": "stdout",
     "output_type": "stream",
     "text": [
      "[[ 4 10 18]\n",
      " [ 4 10 18]\n",
      " [ 4 10 18]]\n",
      "[[ 4 10 18]\n",
      " [ 4 10 18]\n",
      " [ 4 10 18]]\n",
      "[[0.25 0.4  0.5 ]\n",
      " [0.25 0.4  0.5 ]\n",
      " [0.25 0.4  0.5 ]]\n",
      "[[0.25 0.4  0.5 ]\n",
      " [0.25 0.4  0.5 ]\n",
      " [0.25 0.4  0.5 ]]\n",
      "[[1.         1.41421356 1.73205081]\n",
      " [1.         1.41421356 1.73205081]\n",
      " [1.         1.41421356 1.73205081]]\n",
      "[[2.         2.23606798 2.44948974]\n",
      " [2.         2.23606798 2.44948974]\n",
      " [2.         2.23606798 2.44948974]]\n"
     ]
    }
   ],
   "source": [
    "#we can multiply/divide element wise divison is normal not floor and we can also take squreroot of element wise\n",
    "print(x*y)\n",
    "print(np.multiply(x,y))\n",
    "print(x/y)\n",
    "print(np.divide(x,y))\n",
    "print(np.sqrt(x))\n",
    "print(np.sqrt(y))"
   ]
  },
  {
   "cell_type": "code",
   "execution_count": 11,
   "metadata": {
    "scrolled": true
   },
   "outputs": [
    {
     "name": "stdout",
     "output_type": "stream",
     "text": [
      "[[1 2 3]\n",
      " [1 2 3]\n",
      " [1 2 3]]\n",
      "[[4 5 6]\n",
      " [4 5 6]\n",
      " [4 5 6]]\n",
      "[[24 30 36]\n",
      " [24 30 36]\n",
      " [24 30 36]]\n",
      "[[24 30 36]\n",
      " [24 30 36]\n",
      " [24 30 36]]\n"
     ]
    }
   ],
   "source": [
    "#matrix multiplication we can do \n",
    "print(x)\n",
    "print(y)\n",
    "print(x.dot(y))\n",
    "print(np.dot(x,y))"
   ]
  },
  {
   "cell_type": "code",
   "execution_count": 12,
   "metadata": {},
   "outputs": [
    {
     "name": "stdout",
     "output_type": "stream",
     "text": [
      "30\n",
      "[[1 2 3]\n",
      " [1 2 3]\n",
      " [1 2 3]]\n",
      "18\n",
      "[3 6 9]\n",
      "[6 6 6]\n"
     ]
    }
   ],
   "source": [
    "#we can also take dot product of two vector or multiplication of two vector\n",
    "#vector is a linear array vector multiplication is a scaler\n",
    "w=np.array([1,2,3,4])\n",
    "z=np.array([1,2,3,4])\n",
    "print(w.dot(z))\n",
    "print(x)\n",
    "print(np.sum(x))  #it give sum of all the element\n",
    "print(np.sum(x,axis=0))   # it will sum along column\n",
    "print(np.sum(x,axis=1))   #it will sum along row"
   ]
  },
  {
   "cell_type": "code",
   "execution_count": 13,
   "metadata": {},
   "outputs": [
    {
     "name": "stdout",
     "output_type": "stream",
     "text": [
      "[1 2 3 4]\n",
      "[2 4 6 8]\n"
     ]
    }
   ],
   "source": [
    "print(w)\n",
    "z=z*2\n",
    "print(z)"
   ]
  },
  {
   "cell_type": "code",
   "execution_count": 14,
   "metadata": {},
   "outputs": [
    {
     "name": "stdout",
     "output_type": "stream",
     "text": [
      "[[1 2]\n",
      " [2 4]\n",
      " [3 6]\n",
      " [4 8]]\n",
      "[[1 2 3 4]\n",
      " [2 4 6 8]]\n"
     ]
    }
   ],
   "source": [
    "#stacking means concatenation of array i.e\n",
    "print(np.stack((w,z),axis=1))  #concatenating along  it made 1st array as 1st column and 2nd as 2nd column\n",
    "print(np.stack((w,z),axis=0))    ##concatenating along  it made 1st array as 1st column and 2nd as 2nd column"
   ]
  },
  {
   "cell_type": "code",
   "execution_count": 15,
   "metadata": {},
   "outputs": [
    {
     "name": "stdout",
     "output_type": "stream",
     "text": [
      "[[1 2 3]\n",
      " [1 2 3]\n",
      " [1 2 3]\n",
      " [1 2 3]]\n",
      "[[1 2]\n",
      " [3 1]\n",
      " [2 3]\n",
      " [1 2]\n",
      " [3 1]\n",
      " [2 3]]\n"
     ]
    }
   ],
   "source": [
    "# reshaping a numpy array i.e changing row and column as you wish\n",
    "a=np.array([[1,2,3],[1,2,3],[1,2,3],[1,2,3]])\n",
    "print(a)\n",
    "print(a.reshape(6,2))   #it convert above array in 6 row and 2 column"
   ]
  },
  {
   "cell_type": "markdown",
   "metadata": {},
   "source": [
    "# NUMPY RANDOM MODULE 2ND LECTURE\n",
    "- 1.rand :random values in a given shape\n",
    "- 2.randn:return a sample (or samples) from the standard normal distribution\n",
    "- 3.randint: return random integers from low(inclusive) to high (exclusive)\n",
    "- 4.random :return random float in the half open interval [0,1.0)\n",
    "- 5.choice: generate a random sample from given 1d array\n",
    "- 6.shuffle: shuffle the content of sequence"
   ]
  },
  {
   "cell_type": "markdown",
   "metadata": {},
   "source": [
    "\n",
    "\n",
    "\n"
   ]
  },
  {
   "cell_type": "code",
   "execution_count": 25,
   "metadata": {},
   "outputs": [
    {
     "name": "stdout",
     "output_type": "stream",
     "text": [
      "[0 1 2 3 4 5 6 7 8 9]\n",
      "[ 5  6  7  8  9 10 11 12 13 14]\n"
     ]
    }
   ],
   "source": [
    "#random is already in numpy\n",
    "a=np.arange(10)+5\n",
    "b=np.arange(10)\n",
    "print(b)\n",
    "print(a)"
   ]
  },
  {
   "cell_type": "code",
   "execution_count": 26,
   "metadata": {},
   "outputs": [
    {
     "name": "stdout",
     "output_type": "stream",
     "text": [
      "[ 7 14 11  9  5  8  6 12 13 10]\n"
     ]
    }
   ],
   "source": [
    "#now random shuffle  it suffle the sequence of array using shuffle\n",
    "#we use seed to fix random no every time as generated 1st time it generate all time same random no\n",
    "np.random.seed(1)\n",
    "np.random.shuffle(a)\n",
    "print(a)"
   ]
  },
  {
   "cell_type": "code",
   "execution_count": 27,
   "metadata": {},
   "outputs": [
    {
     "name": "stdout",
     "output_type": "stream",
     "text": [
      "[[0.38791074 0.66974604 0.93553907]\n",
      " [0.84631092 0.31327352 0.52454816]]\n"
     ]
    }
   ],
   "source": [
    "#we can generate array of random no  using rand\n",
    "a=np.random.rand(2,3)\n",
    "print(a)"
   ]
  },
  {
   "cell_type": "code",
   "execution_count": 28,
   "metadata": {},
   "outputs": [
    {
     "name": "stdout",
     "output_type": "stream",
     "text": [
      "[[-1.50780766 -0.31529207  0.85817886]\n",
      " [ 0.07134299 -2.29230928 -1.41555249]]\n"
     ]
    }
   ],
   "source": [
    "a=np.random.randn(2,3)  # it return array from standard normal distribution we will see later standard normal distribution\n",
    "print(a)"
   ]
  },
  {
   "cell_type": "code",
   "execution_count": 29,
   "metadata": {},
   "outputs": [
    {
     "name": "stdout",
     "output_type": "stream",
     "text": [
      "[5 6]\n"
     ]
    }
   ],
   "source": [
    "a=np.random.randint(5,10,2)  #it will 2 integer from 5 to 10  by randint \n",
    "print(a)"
   ]
  },
  {
   "cell_type": "code",
   "execution_count": 30,
   "metadata": {},
   "outputs": [
    {
     "name": "stdout",
     "output_type": "stream",
     "text": [
      "6\n"
     ]
    }
   ],
   "source": [
    "#we can randomly pick element from a list of element by choice \n",
    "element=np.random.choice([1,2,3,4,5,7,5,6,6])\n",
    "print(element)"
   ]
  },
  {
   "cell_type": "markdown",
   "metadata": {},
   "source": [
    "some more numpy function\n",
    "- min ,max\n",
    "- mean\n",
    "- median\n",
    "- average\n",
    "- variance\n",
    "- standard deviation"
   ]
  },
  {
   "cell_type": "code",
   "execution_count": 32,
   "metadata": {},
   "outputs": [
    {
     "name": "stdout",
     "output_type": "stream",
     "text": [
      "0\n",
      "[1 2 2 0]\n",
      "[1 0]\n"
     ]
    }
   ],
   "source": [
    "a=np.array([[1,2,3,4],[7,6,2,0]])\n",
    "print(np.min(a))     #it give minimum elementin a array\n",
    "# in multidimentional array we can find min and max in a given direction if axis=0 min along each column and if axis=1 min along \n",
    "#each row\n",
    "print(np.min(a,axis=0))\n",
    "print(np.min(a,axis=1))"
   ]
  },
  {
   "cell_type": "code",
   "execution_count": 35,
   "metadata": {},
   "outputs": [
    {
     "name": "stdout",
     "output_type": "stream",
     "text": [
      "3.125\n",
      "[4.  4.  2.5 2. ]\n",
      "[2.5  3.75]\n"
     ]
    }
   ],
   "source": [
    "# mean/average  all the elements\n",
    "print(np.mean(a))\n",
    "print(np.mean(a,axis=0))\n",
    "print(np.mean(a,axis=1))"
   ]
  },
  {
   "cell_type": "code",
   "execution_count": 45,
   "metadata": {},
   "outputs": [
    {
     "name": "stdout",
     "output_type": "stream",
     "text": [
      "2.5\n"
     ]
    }
   ],
   "source": [
    "#median it give median of data after accending it in increasing order\n",
    "a=np.array([5,2,1,2,3,6])\n",
    "print(np.median(a))"
   ]
  },
  {
   "cell_type": "code",
   "execution_count": 36,
   "metadata": {},
   "outputs": [
    {
     "name": "stdout",
     "output_type": "stream",
     "text": [
      "3.0\n",
      "3.6666666666666665\n"
     ]
    }
   ],
   "source": [
    "#average and mean are different thing. average is weighted   i.e\n",
    "a=np.array([1,2,3,4,5])\n",
    "w=np.array([1,2,3,4,5])\n",
    "print(np.mean(a))\n",
    "print(np.average(a,weights=w))  #weighted average is ((w[i]*a[i]+w[i+1]*w[i+1]+w[i+2]*a[i+2]+.......+w[n]*a[n])/(w1+w2+w3+w4+....+wn))"
   ]
  },
  {
   "cell_type": "code",
   "execution_count": 39,
   "metadata": {},
   "outputs": [
    {
     "name": "stdout",
     "output_type": "stream",
     "text": [
      "2.4\n",
      "1.854723699099141\n",
      "1.854723699099141\n",
      "3.440000000000001\n",
      "3.4400000000000004\n"
     ]
    }
   ],
   "source": [
    "#standard deviation \n",
    "a=np.array([1,5,4,2,0])\n",
    "u=np.mean(a)\n",
    "print(u)\n",
    "sd=np.sqrt(np.mean(abs(a-u)**2))\n",
    "print(sd)\n",
    "#inbuilt function of standard deviation\n",
    "deviation=np.std(a)\n",
    "print(deviation)\n",
    "# variance\n",
    "print(sd**2)\n",
    "print(np.var(a))"
   ]
  },
  {
   "cell_type": "markdown",
   "metadata": {},
   "source": [
    "# transpose  of a matrix"
   ]
  },
  {
   "cell_type": "code",
   "execution_count": 61,
   "metadata": {},
   "outputs": [
    {
     "name": "stdout",
     "output_type": "stream",
     "text": [
      "[[1 3 5]\n",
      " [2 4 6]]\n",
      "[[1 2]\n",
      " [3 4]\n",
      " [5 6]]\n"
     ]
    }
   ],
   "source": [
    "#to get transpose of a matrix\n",
    "a=np.array([[1,3,5],[2,4,6]])\n",
    "print(a)\n",
    "print(a.T)"
   ]
  },
  {
   "cell_type": "markdown",
   "metadata": {},
   "source": [
    "# linear algebra\n",
    "- scalar: it is a single number denoted as x\n",
    "- vector: it is an array of scalars denoted by x\n",
    "- a vector has n scalars :x1,x2,x3,.. xn\n",
    "- x=[x1,\n",
    "     x2,\n",
    "     x3,\n",
    "     ...\n",
    "     xn]"
   ]
  },
  {
   "cell_type": "code",
   "execution_count": 49,
   "metadata": {},
   "outputs": [
    {
     "name": "stdout",
     "output_type": "stream",
     "text": [
      "[1 2 3 4]\n",
      "[[1]\n",
      " [2]\n",
      " [3]\n",
      " [4]]\n",
      "(4,)\n",
      "(4, 1)\n",
      "1\n",
      "[1]\n",
      "1\n",
      "[[1 2]\n",
      " [3 4]]\n"
     ]
    }
   ],
   "source": [
    "# we can represent vector in both given form as requirement\n",
    "x1=np.array([1,2,3,4])\n",
    "x2=np.array([[1],[2],[3],[4]])\n",
    "print(x1)\n",
    "print(x2)\n",
    "print(x1.shape)\n",
    "print(x2.shape)\n",
    "print(x1[0])   # it give 1st element\n",
    "print(x2[0]) #it give 1st row\n",
    "print(x2[0][0])\n",
    "x2=x2.reshape((-1,2))   # it reshapes the vector in 2 dimension\n",
    "print(x2)"
   ]
  },
  {
   "cell_type": "markdown",
   "metadata": {},
   "source": [
    "# matrix and tensors\n",
    "- MATRIX :it i s a 2d array of scalars ,denoted by X\n",
    "- if no of rows =no of columns it is a square matrix\n",
    "- Tensor: it is an array with more than 2 axes \n",
    "- tensor is a generalized of an array with more than 2 axes"
   ]
  },
  {
   "cell_type": "code",
   "execution_count": 55,
   "metadata": {},
   "outputs": [
    {
     "name": "stdout",
     "output_type": "stream",
     "text": [
      "[[ 1  2  3]\n",
      " [ 4  5  6]\n",
      " [ 7  8  9]\n",
      " [10 11 12]]\n",
      "(4, 3)\n",
      "5\n",
      "[[ 1  2  3]\n",
      " [17 17 17]\n",
      " [17 17 17]\n",
      " [17 17 17]]\n"
     ]
    }
   ],
   "source": [
    "# here x is a matrix\n",
    "x=np.array([[1,2,3],[4,5,6],[7,8,9],[10,11,12]])\n",
    "print(x)\n",
    "print(x.shape)\n",
    "# accesing element which is in 1st row and 1st column\n",
    "print(x[1][1])\n",
    "x[1:, : ]=17   # slicing\n",
    "print(x)"
   ]
  },
  {
   "cell_type": "code",
   "execution_count": 60,
   "metadata": {},
   "outputs": [
    {
     "name": "stdout",
     "output_type": "stream",
     "text": [
      "(3, 3, 3)\n",
      "[[[1 2 3]\n",
      "  [4 5 6]\n",
      "  [7 8 9]]\n",
      "\n",
      " [[1 2 3]\n",
      "  [4 5 6]\n",
      "  [7 8 9]]\n",
      "\n",
      " [[1 2 3]\n",
      "  [4 5 6]\n",
      "  [7 8 9]]]\n"
     ]
    }
   ],
   "source": [
    "# here T is a tensor\n",
    "t=np.array([[[1,2,3],[4,5,6],[7,8,9]],[[1,2,3],[4,5,6],[7,8,9]],[[1,2,3],[4,5,6],[7,8,9]]])\n",
    "print(t.shape)  # it has 3 row ,3 column ,3 depth\n",
    "print(t)"
   ]
  },
  {
   "cell_type": "markdown",
   "metadata": {},
   "source": [
    "# matrix multiplictaion\n"
   ]
  },
  {
   "cell_type": "code",
   "execution_count": 63,
   "metadata": {},
   "outputs": [
    {
     "name": "stdout",
     "output_type": "stream",
     "text": [
      "[[1 2 3]\n",
      " [4 5 6]\n",
      " [7 8 9]]\n",
      "[[10 20 30]\n",
      " [40 50 60]\n",
      " [70 80 90]]\n",
      "[[ 300  360  420]\n",
      " [ 660  810  960]\n",
      " [1020 1260 1500]]\n"
     ]
    }
   ],
   "source": [
    "a1=np.array([[1,2,3],[4,5,6],[7,8,9]])\n",
    "a2=np.array([[10,20,30],[40,50,60],[70,80,90]])\n",
    "print(a1)\n",
    "print(a2)\n",
    "print(np.dot(a1,a2))"
   ]
  },
  {
   "cell_type": "markdown",
   "metadata": {},
   "source": [
    "# element wise multiplication"
   ]
  },
  {
   "cell_type": "code",
   "execution_count": 65,
   "metadata": {},
   "outputs": [
    {
     "name": "stdout",
     "output_type": "stream",
     "text": [
      "[[ 10  40  90]\n",
      " [160 250 360]\n",
      " [490 640 810]]\n"
     ]
    }
   ],
   "source": [
    "print(a1*a2)  #it multiply element wise"
   ]
  },
  {
   "cell_type": "markdown",
   "metadata": {},
   "source": [
    "# NORM OF VECTOR"
   ]
  },
  {
   "cell_type": "code",
   "execution_count": 80,
   "metadata": {},
   "outputs": [
    {
     "name": "stdout",
     "output_type": "stream",
     "text": [
      "20.73644135332772\n",
      "30.0\n",
      "20.0\n",
      "7.0\n",
      "8.0\n"
     ]
    }
   ],
   "source": [
    "x=np.array([1,2,3,4,-20])\n",
    "lp2=np.linalg.norm(x)\n",
    "print(lp2)\n",
    "lp1=np.linalg.norm(x,ord=1)\n",
    "print(lp1)\n",
    "lpinf=np.linalg.norm(x,ord=np.inf)\n",
    "print(lpinf)\n",
    "x1=np.array([[2,-2,1],[-1,2,-1],[2,-4,1]])\n",
    "lpinf1=np.linalg.norm(x1,ord=np.inf)\n",
    "print(lpinf1)\n",
    "lp11=np.linalg.norm(x1,ord=1)\n",
    "print(lp11)"
   ]
  },
  {
   "cell_type": "markdown",
   "metadata": {},
   "source": [
    "# BROADCASTING\n",
    "- you can add a scalar to vector ,and numpy will add it to each element in the vector\n",
    "- x+a=xi+a\n",
    "- similarly you can add a vector to matrix and numpy will add it the vector to each column of matrix\n"
   ]
  },
  {
   "cell_type": "code",
   "execution_count": 74,
   "metadata": {},
   "outputs": [
    {
     "name": "stdout",
     "output_type": "stream",
     "text": [
      "[2 3 4 5 6]\n",
      "[ 4  9 16 25 36]\n",
      "[2.23606798 3.16227766 4.12310563 5.09901951 6.08276253]\n"
     ]
    }
   ],
   "source": [
    "l=np.array([1,2,3,4,5])\n",
    "l+=1\n",
    "print(l)\n",
    "l=l**2\n",
    "print(l)\n",
    "l+=1\n",
    "print(np.sqrt(l))"
   ]
  },
  {
   "cell_type": "code",
   "execution_count": 77,
   "metadata": {},
   "outputs": [
    {
     "name": "stdout",
     "output_type": "stream",
     "text": [
      "[[ 1  2  3  4  5]\n",
      " [ 6  7  8  9 10]]\n",
      "[[ 2  3  4  5  6]\n",
      " [ 7  8  9 10 11]]\n",
      "[[  4   9  16  25  36]\n",
      " [ 49  64  81 100 121]]\n",
      "[[ 2.23606798  3.16227766  4.12310563  5.09901951  6.08276253]\n",
      " [ 7.07106781  8.06225775  9.05538514 10.04987562 11.04536102]]\n"
     ]
    }
   ],
   "source": [
    "l=np.array([[1,2,3,4,5],[6,7,8,9,10]])\n",
    "print(l)\n",
    "l+=1\n",
    "print(l)\n",
    "l=l**2\n",
    "print(l)\n",
    "l+=1\n",
    "print(np.sqrt(l))"
   ]
  },
  {
   "cell_type": "code",
   "execution_count": null,
   "metadata": {},
   "outputs": [],
   "source": []
  }
 ],
 "metadata": {
  "kernelspec": {
   "display_name": "Python 3",
   "language": "python",
   "name": "python3"
  },
  "language_info": {
   "codemirror_mode": {
    "name": "ipython",
    "version": 3
   },
   "file_extension": ".py",
   "mimetype": "text/x-python",
   "name": "python",
   "nbconvert_exporter": "python",
   "pygments_lexer": "ipython3",
   "version": "3.7.3"
  }
 },
 "nbformat": 4,
 "nbformat_minor": 2
}
